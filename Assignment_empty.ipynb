{
 "cells": [
  {
   "cell_type": "code",
   "execution_count": 11,
   "metadata": {
    "id": "Zyww5Q6zFIM9"
   },
   "outputs": [],
   "source": [
    "import numpy as np\n",
    "import matplotlib.pyplot as plt\n",
    "from gridworld_env import get_task1_gridworld, get_task2_gridworld, get_task3_gridworld\n",
    "from utils import paint_gridworld"
   ]
  },
  {
   "cell_type": "markdown",
   "metadata": {
    "id": "lbY8DCqoVJlw"
   },
   "source": [
    "## A Look Around GridWorld"
   ]
  },
  {
   "cell_type": "code",
   "execution_count": 12,
   "metadata": {
    "colab": {
     "base_uri": "https://localhost:8080/",
     "height": 990
    },
    "id": "CuEktkbnFINB",
    "outputId": "058f3b07-0dbc-40f4-cf31-10b9aed8974d"
   },
   "outputs": [
    {
     "data": {
      "image/png": "[encoded data removed]",
      "text/plain": [
       "<Figure size 400x400 with 1 Axes>"
      ]
     },
     "metadata": {},
     "output_type": "display_data"
    }
   ],
   "source": [
    "# Initiating the Environment. The method get_task1_gridworld\n",
    "# initialises the environment for the task 1. Similarly there are methods to initialise the environment \n",
    "# for the other tasks\n",
    "env1 = get_task1_gridworld()\n",
    "\n",
    "# This is how the environment looks like\n",
    "paint_gridworld(env1, figsize=(4,4), ticksize=7)"
   ]
  },
  {
   "cell_type": "markdown",
   "metadata": {},
   "source": [
    "## Example of running a simulation "
   ]
  },
  {
   "cell_type": "code",
   "execution_count": 13,
   "metadata": {},
   "outputs": [
    {
     "name": "stdout",
     "output_type": "stream",
     "text": [
      "Collected rewards of an episode: [0, 0.0, 0.0, 0.0, 0.0, -10.0]\n"
     ]
    }
   ],
   "source": [
    "reward_lst = []\n",
    "\n",
    "# Initialise the environment\n",
    "# An arbitary gamma value is used here. You may need to change this!\n",
    "env1 = get_task1_gridworld()\n",
    "\n",
    "# Reset the environment to start from the starting location. \n",
    "# The reset() method returns the state, reward, and whether the episode is done or not\n",
    "# More information can be found under the definition of the method\n",
    "_, state, reward, done = env1.reset()\n",
    "reward_lst.append(reward)\n",
    "\n",
    "# While the trial is not done, i.e. the agent has not fallen into lava,\n",
    "# the maximum length of the episode has not been exceeded, and the target has not been reached\n",
    "while not done:\n",
    "    \n",
    "    # Take a step using the step() function and passing in one of the available actions [0, 1, 2, 3] \n",
    "    # corresponding to ['N', 'S', 'E', 'W']\n",
    "    # More information can be found under the definition of the method\n",
    "    # In this very simple example for each step we choose a random action\n",
    "    _, state, reward, done = env1.step(np.random.choice(4))\n",
    "    reward_lst.append(reward)\n",
    "\n",
    "print(f'Collected rewards of an episode: {reward_lst}')"
   ]
  },
  {
   "cell_type": "code",
   "execution_count": null,
   "metadata": {},
   "outputs": [],
   "source": [
    "class Q_agent():\n",
    "  # The solve method should take the n_episodes and env as a parameter, \n",
    "  # but otherwise you can modify the definition of this method\n",
    "  def solve(self, env, n_episodes=1):\n",
    "    \"\"\"\n",
    "    Solve a given GridWorld environment using SARSA\n",
    "    input: env {GridWorld object} -- GridWorld to solve\n",
    "    output:\n",
    "      - policy {np.array} -- Optimal policy found to solve the given GridWorld environment\n",
    "      - total_rewards {list of float} -- Corresponding list of successive total non-discounted sum of reward for each trial\n",
    "      - total_steps {list of float} -- Corresponding list of successive total non-discounted sum of steps for each trial\n",
    "    \"\"\"\n",
    "\n",
    "    # Initialise your variables\n",
    "\n",
    "    ####\n",
    "    # Add your code here\n",
    "    # WARNING: this agent only has access to env.reset() and env.step()\n",
    "    # You should not use env.get_absorbing() to compute any value\n",
    "    ####\n",
    "    \n",
    "    \n",
    "    \n",
    "    \n",
    "    # You may use these outputs to plot graphs\n",
    "    return policy, total_rewards, total_steps\n"
   ]
  },
  {
   "cell_type": "code",
   "execution_count": null,
   "metadata": {},
   "outputs": [],
   "source": [
    "class SARSA_agent():\n",
    "  # The solve method should take the n_episodes and env as a parameter, \n",
    "  # but otherwise you can modify the definition of this method\n",
    "  def solve(self, env, n_episodes=500, \n",
    "             # Extra parameters:\n",
    "            gamma=0.1, alpha=0.1, epsilon=0.1, ):\n",
    "    \"\"\"\n",
    "    Solve a given GridWorld environment using SARSA\n",
    "    input: env {GridWorld object} -- GridWorld to solve\n",
    "    output:\n",
    "      - policy {np.array} -- Optimal policy found to solve the given GridWorld environment\n",
    "      - total_rewards {list of float} -- Corresponding list of successive total non-discounted sum of reward for each trial\n",
    "      - total_steps {list of float} -- Corresponding list of successive total non-discounted sum of steps for each trial\n",
    "    \"\"\"\n",
    "\n",
    "    # Initialise your variables\n",
    "\n",
    "    ####\n",
    "    # Add your code here\n",
    "    # WARNING: this agent only has access to env.reset() and env.step()\n",
    "    # You should not use env.get_absorbing() to compute any value\n",
    "    ####\n",
    "    \n",
    "    \n",
    "    # You may use these outputs to plot graphs\n",
    "    return policy, total_rewards, total_steps"
   ]
  },
  {
   "cell_type": "markdown",
   "metadata": {
    "id": "e96UhvEwFINC"
   },
   "source": [
    "# Task 1 - Single Target, Deterministic Rewards:"
   ]
  },
  {
   "cell_type": "code",
   "execution_count": null,
   "metadata": {},
   "outputs": [],
   "source": [
    "# Example of Hyperparameters\n",
    "# This is just an example, you can add to this depending on which method you utilise\n",
    "\n",
    "gamma = 0.3\n",
    "# Alpha === Learning Rate\n",
    "alpha = 0.5\n",
    "epsilon = 0.6\n",
    "n_episodes = 500"
   ]
  },
  {
   "cell_type": "code",
   "execution_count": null,
   "metadata": {},
   "outputs": [],
   "source": [
    "# This should be the definition of the gridworld for task 1. DO NOT CHANGE THIS\n",
    "env1 = get_task1_gridworld()"
   ]
  },
  {
   "cell_type": "code",
   "execution_count": null,
   "metadata": {},
   "outputs": [],
   "source": [
    "# Example of running SARSA\n",
    "agent = SARSA_agent()\n",
    "policy, total_rewards, total_steps = agent.solve(env1, gamma=gamma, alpha=alpha, epsilon=epsilon, n_episodes=500)"
   ]
  },
  {
   "cell_type": "code",
   "execution_count": null,
   "metadata": {},
   "outputs": [],
   "source": [
    "# Example of running Q-Learning\n",
    "agent = Q_agent()\n",
    "policy, total_rewards, total_steps = agent.solve(env1)"
   ]
  },
  {
   "cell_type": "code",
   "execution_count": null,
   "metadata": {
    "id": "eLyna1D6FINC"
   },
   "outputs": [],
   "source": [
    "# Do your plots below! Include any new function definitions in this jupyter notebook!"
   ]
  },
  {
   "cell_type": "code",
   "execution_count": null,
   "metadata": {},
   "outputs": [],
   "source": []
  },
  {
   "cell_type": "markdown",
   "metadata": {
    "id": "FkFQmaRaFINC"
   },
   "source": [
    "# Task 2 - Dual Targets with Stochastic Rewards"
   ]
  },
  {
   "cell_type": "code",
   "execution_count": null,
   "metadata": {},
   "outputs": [],
   "source": [
    "# This should be the definition of the gridworld for task 1. DO NOT CHANGE THIS\n",
    "env2 = get_task2_gridworld()"
   ]
  },
  {
   "cell_type": "code",
   "execution_count": null,
   "metadata": {},
   "outputs": [],
   "source": [
    "# Example of running SARSA\n",
    "agent = SARSA_agent()\n",
    "policy, total_rewards, total_steps = agent.solve(env2)"
   ]
  },
  {
   "cell_type": "code",
   "execution_count": null,
   "metadata": {},
   "outputs": [],
   "source": [
    "# Example of running Q-Learning\n",
    "agent = Q_agent()\n",
    "policy, total_rewards, total_steps = agent.solve(env2)"
   ]
  },
  {
   "cell_type": "code",
   "execution_count": null,
   "metadata": {},
   "outputs": [],
   "source": [
    "# Do your plots below! Include any new function definitions in this jupyter notebook!"
   ]
  },
  {
   "cell_type": "code",
   "execution_count": null,
   "metadata": {},
   "outputs": [],
   "source": []
  },
  {
   "cell_type": "markdown",
   "metadata": {
    "id": "J48sF1qHFIND"
   },
   "source": [
    "# Task 3 - Stochastic Transitions and Rewards"
   ]
  },
  {
   "cell_type": "code",
   "execution_count": null,
   "metadata": {},
   "outputs": [],
   "source": [
    "# This should be the definition of the gridworld for task 1. DO NOT CHANGE THIS\n",
    "env3 = get_task3_gridworld()"
   ]
  },
  {
   "cell_type": "code",
   "execution_count": null,
   "metadata": {},
   "outputs": [],
   "source": [
    "# Example of running SARSA\n",
    "agent = SARSA_agent()\n",
    "policy, total_rewards, total_steps = agent.solve(env3)"
   ]
  },
  {
   "cell_type": "code",
   "execution_count": null,
   "metadata": {},
   "outputs": [],
   "source": [
    "# Example of running Q-Learning\n",
    "agent = Q_agent()\n",
    "policy, total_rewards, total_steps = agent.solve(env3)"
   ]
  },
  {
   "cell_type": "code",
   "execution_count": null,
   "metadata": {},
   "outputs": [],
   "source": [
    "# Do your plots below! Include any new function definitions in this jupyter notebook!"
   ]
  },
  {
   "cell_type": "code",
   "execution_count": null,
   "metadata": {},
   "outputs": [],
   "source": []
  }
 ],
 "metadata": {
  "colab": {
   "include_colab_link": true,
   "provenance": []
  },
  "kernelspec": {
   "display_name": "Python 3 (ipykernel)",
   "language": "python",
   "name": "python3"
  },
  "language_info": {
   "codemirror_mode": {
    "name": "ipython",
    "version": 3
   },
   "file_extension": ".py",
   "mimetype": "text/x-python",
   "name": "python",
   "nbconvert_exporter": "python",
   "pygments_lexer": "ipython3",
   "version": "3.12.2"
  }
 },
 "nbformat": 4,
 "nbformat_minor": 1
}

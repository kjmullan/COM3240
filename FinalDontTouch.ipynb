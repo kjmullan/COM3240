{
 "cells": [
  {
   "cell_type": "code",
   "execution_count": 1,
   "metadata": {},
   "outputs": [],
   "source": [
    "import numpy as np\n",
    "import matplotlib.pyplot as plt\n",
    "from gridworld_env import get_task1_gridworld, get_task2_gridworld, get_task3_gridworld\n",
    "from utils import paint_gridworld"
   ]
  },
  {
   "cell_type": "markdown",
   "metadata": {},
   "source": [
    "## A Look Around GridWorld"
   ]
  },
  {
   "cell_type": "code",
   "execution_count": 2,
   "metadata": {},
   "outputs": [
    {
     "data": {
      "image/png": "[encoded data removed]",
      "text/plain": [
       "<Figure size 400x400 with 1 Axes>"
      ]
     },
     "metadata": {},
     "output_type": "display_data"
    }
   ],
   "source": [
    "# Initiating the Environment. The method get_task1_gridworld\n",
    "# initialises the environment for the task 1. Similarly there are methods to initialise the environment \n",
    "# for the other tasks\n",
    "env1 = get_task1_gridworld()\n",
    "\n",
    "# This is how the environment looks like\n",
    "paint_gridworld(env1, figsize=(4,4), ticksize=7)"
   ]
  },
  {
   "cell_type": "markdown",
   "metadata": {},
   "source": [
    "## Example of running a simulation"
   ]
  },
  {
   "cell_type": "code",
   "execution_count": 3,
   "metadata": {},
   "outputs": [
    {
     "name": "stdout",
     "output_type": "stream",
     "text": [
      "Collected rewards of an episode: [0, 0.0, 0.0, 0.0, 0.0, 0.0, 0.0, 0.0, 0.0, 0.0, 0.0, 0.0, 0.0, 0.0, 0.0, 0.0, 0.0, 0.0, 0.0, 0.0, 0.0, 0.0, 0.0, 0.0, 0.0, 0.0, 0.0, 0.0, 0.0, 0.0, 0.0, 0.0, 0.0, 0.0, 0.0, 0.0, 0.0, 0.0, 0.0, 0.0, 0.0, 0.0, 0.0, 0.0, 0.0, 0.0, 0.0, 0.0, 0.0, 0.0, 0.0, 0.0, 0.0, 0.0, 0.0, 0.0, 0.0, 0.0, 0.0, 0.0, 0.0, 0.0, 0.0, 0.0, 0.0, 0.0, 0.0, 0.0, 0.0, 0.0, 0.0, 0.0, 0.0, 0.0, 0.0, 0.0, 0.0, 0.0, 0.0, 0.0, 0.0, 0.0, 0.0, 0.0, 0.0, 0.0, 0.0, 0.0, 0.0, 0.0, 0.0, 0.0, 0.0, 0.0, 0.0, 0.0, 0.0, 0.0, 0.0, 0.0, 0.0, 0.0, 0.0, 0.0, 0.0, 0.0, 0.0, 0.0, 0.0, 0.0, 0.0, 0.0, 0.0, 0.0, 0.0, 0.0, 0.0, 0.0, 0.0, 0.0, 0.0, 0.0, 0.0, 0.0, 0.0, 0.0, 0.0, 0.0, 0.0, 0.0, 0.0, 0.0, 0.0, 0.0, 0.0, 0.0, 0.0, 0.0, 0.0, 0.0, 0.0, 0.0, 0.0, 0.0, 0.0, 0.0, 0.0, 0.0, 0.0, 0.0, 0.0, 0.0, 0.0, 0.0, 0.0, 0.0, 0.0, 0.0, 0.0, 0.0, 0.0, 0.0, 0.0, 0.0, 0.0, 0.0, -10.0]\n"
     ]
    }
   ],
   "source": [
    "reward_lst = []\n",
    "\n",
    "# Initialise the environment\n",
    "# An arbitary gamma value is used here. You may need to change this!\n",
    "env1 = get_task1_gridworld()\n",
    "\n",
    "# Reset the environment to start from the starting location. \n",
    "# The reset() method returns the state, reward, and whether the episode is done or not\n",
    "# More information can be found under the definition of the method\n",
    "_, state, reward, done = env1.reset()\n",
    "reward_lst.append(reward)\n",
    "\n",
    "# While the trial is not done, i.e. the agent has not fallen into lava,\n",
    "# the maximum length of the episode has not been exceeded, and the target has not been reached\n",
    "while not done:\n",
    "    \n",
    "    # Take a step using the step() function and passing in one of the available actions [0, 1, 2, 3] \n",
    "    # corresponding to ['N', 'S', 'E', 'W']\n",
    "    # More information can be found under the definition of the method\n",
    "    # In this very simple example for each step we choose a random action\n",
    "    _, state, reward, done = env1.step(np.random.choice(4))\n",
    "    reward_lst.append(reward)\n",
    "\n",
    "print(f'Collected rewards of an episode: {reward_lst}')"
   ]
  },
  {
   "cell_type": "code",
   "execution_count": 4,
   "metadata": {},
   "outputs": [],
   "source": [
    "class Q_agent():\n",
    "  # The solve method should take the n_episodes and env as a parameter, \n",
    "  # but otherwise you can modify the definition of this method\n",
    "  def solve(self, env, n_episodes=1):\n",
    "    \"\"\"\n",
    "    Solve a given GridWorld environment using SARSA\n",
    "    input: env {GridWorld object} -- GridWorld to solve\n",
    "    output:\n",
    "      - policy {np.array} -- Optimal policy found to solve the given GridWorld environment\n",
    "      - total_rewards {list of float} -- Corresponding list of successive total non-discounted sum of reward for each trial\n",
    "      - total_steps {list of float} -- Corresponding list of successive total non-discounted sum of steps for each trial\n",
    "    \"\"\"\n",
    "\n",
    "    # Initialise your variables\n",
    "\n",
    "    ####\n",
    "    # Add your code here\n",
    "    # WARNING: this agent only has access to env.reset() and env.step()\n",
    "    # You should not use env.get_absorbing() to compute any value\n",
    "    ####\n",
    "    \n",
    "    \n",
    "    \n",
    "    \n",
    "    # You may use these outputs to plot graphs\n",
    "    return policy, total_rewards, total_steps"
   ]
  },
  {
   "cell_type": "code",
   "execution_count": 5,
   "metadata": {},
   "outputs": [],
   "source": [
    "class SARSA_agent():\n",
    "  # The solve method should take the n_episodes and env as a parameter, \n",
    "  # but otherwise you can modify the definition of this method\n",
    "  def solve(self, env, n_episodes=500, \n",
    "             # Extra parameters:\n",
    "            gamma=0.1, alpha=0.1, epsilon=0.1, ):\n",
    "    \"\"\"\n",
    "    Solve a given GridWorld environment using SARSA\n",
    "    input: env {GridWorld object} -- GridWorld to solve\n",
    "    output:\n",
    "      - policy {np.array} -- Optimal policy found to solve the given GridWorld environment\n",
    "      - total_rewards {list of float} -- Corresponding list of successive total non-discounted sum of reward for each trial\n",
    "      - total_steps {list of float} -- Corresponding list of successive total non-discounted sum of steps for each trial\n",
    "    \"\"\"\n",
    "\n",
    "    # Initialise your variables\n",
    "\n",
    "    ####\n",
    "    # Add your code here\n",
    "    # WARNING: this agent only has access to env.reset() and env.step()\n",
    "    # You should not use env.get_absorbing() to compute any value\n",
    "    ####\n",
    "    \n",
    "    \n",
    "    # You may use these outputs to plot graphs\n",
    "    return policy, total_rewards, total_steps"
   ]
  },
  {
   "cell_type": "markdown",
   "metadata": {},
   "source": [
    "## Task 1 - Single Target, Deterministic Rewards:"
   ]
  },
  {
   "cell_type": "code",
   "execution_count": 6,
   "metadata": {},
   "outputs": [],
   "source": [
    "# Example of Hyperparameters\n",
    "# This is just an example, you can add to this depending on which method you utilise\n",
    "\n",
    "gamma = 0.3\n",
    "# Alpha === Learning Rate\n",
    "alpha = 0.5\n",
    "epsilon = 0.6\n",
    "n_episodes = 500"
   ]
  },
  {
   "cell_type": "code",
   "execution_count": null,
   "metadata": {},
   "outputs": [],
   "source": [
    "# This should be the definition of the gridworld for task 1. DO NOT CHANGE THIS\n",
    "env1 = get_task1_gridworld()"
   ]
  },
  {
   "cell_type": "code",
   "execution_count": 7,
   "metadata": {},
   "outputs": [
    {
     "ename": "NameError",
     "evalue": "name 'policy' is not defined",
     "output_type": "error",
     "traceback": [
      "\u001b[1;31m---------------------------------------------------------------------------\u001b[0m",
      "\u001b[1;31mNameError\u001b[0m                                 Traceback (most recent call last)",
      "Cell \u001b[1;32mIn[7], line 3\u001b[0m\n\u001b[0;32m      1\u001b[0m \u001b[38;5;66;03m# Example of running SARSA\u001b[39;00m\n\u001b[0;32m      2\u001b[0m agent \u001b[38;5;241m=\u001b[39m SARSA_agent()\n\u001b[1;32m----> 3\u001b[0m policy, total_rewards, total_steps \u001b[38;5;241m=\u001b[39m \u001b[43magent\u001b[49m\u001b[38;5;241;43m.\u001b[39;49m\u001b[43msolve\u001b[49m\u001b[43m(\u001b[49m\u001b[43menv1\u001b[49m\u001b[43m,\u001b[49m\u001b[43m \u001b[49m\u001b[43mgamma\u001b[49m\u001b[38;5;241;43m=\u001b[39;49m\u001b[43mgamma\u001b[49m\u001b[43m,\u001b[49m\u001b[43m \u001b[49m\u001b[43malpha\u001b[49m\u001b[38;5;241;43m=\u001b[39;49m\u001b[43malpha\u001b[49m\u001b[43m,\u001b[49m\u001b[43m \u001b[49m\u001b[43mepsilon\u001b[49m\u001b[38;5;241;43m=\u001b[39;49m\u001b[43mepsilon\u001b[49m\u001b[43m,\u001b[49m\u001b[43m \u001b[49m\u001b[43mn_episodes\u001b[49m\u001b[38;5;241;43m=\u001b[39;49m\u001b[38;5;241;43m500\u001b[39;49m\u001b[43m)\u001b[49m\n",
      "Cell \u001b[1;32mIn[5], line 26\u001b[0m, in \u001b[0;36mSARSA_agent.solve\u001b[1;34m(self, env, n_episodes, gamma, alpha, epsilon)\u001b[0m\n\u001b[0;32m      7\u001b[0m \u001b[38;5;250m\u001b[39m\u001b[38;5;124;03m\"\"\"\u001b[39;00m\n\u001b[0;32m      8\u001b[0m \u001b[38;5;124;03mSolve a given GridWorld environment using SARSA\u001b[39;00m\n\u001b[0;32m      9\u001b[0m \u001b[38;5;124;03minput: env {GridWorld object} -- GridWorld to solve\u001b[39;00m\n\u001b[1;32m   (...)\u001b[0m\n\u001b[0;32m     13\u001b[0m \u001b[38;5;124;03m  - total_steps {list of float} -- Corresponding list of successive total non-discounted sum of steps for each trial\u001b[39;00m\n\u001b[0;32m     14\u001b[0m \u001b[38;5;124;03m\"\"\"\u001b[39;00m\n\u001b[0;32m     16\u001b[0m \u001b[38;5;66;03m# Initialise your variables\u001b[39;00m\n\u001b[0;32m     17\u001b[0m \n\u001b[0;32m     18\u001b[0m \u001b[38;5;66;03m####\u001b[39;00m\n\u001b[1;32m   (...)\u001b[0m\n\u001b[0;32m     24\u001b[0m \n\u001b[0;32m     25\u001b[0m \u001b[38;5;66;03m# You may use these outputs to plot graphs\u001b[39;00m\n\u001b[1;32m---> 26\u001b[0m \u001b[38;5;28;01mreturn\u001b[39;00m \u001b[43mpolicy\u001b[49m, total_rewards, total_steps\n",
      "\u001b[1;31mNameError\u001b[0m: name 'policy' is not defined"
     ]
    }
   ],
   "source": [
    "# Example of running SARSA\n",
    "agent = SARSA_agent()\n",
    "policy, total_rewards, total_steps = agent.solve(env1, gamma=gamma, alpha=alpha, epsilon=epsilon, n_episodes=500)"
   ]
  },
  {
   "cell_type": "code",
   "execution_count": 8,
   "metadata": {},
   "outputs": [
    {
     "ename": "NameError",
     "evalue": "name 'policy' is not defined",
     "output_type": "error",
     "traceback": [
      "\u001b[1;31m---------------------------------------------------------------------------\u001b[0m",
      "\u001b[1;31mNameError\u001b[0m                                 Traceback (most recent call last)",
      "Cell \u001b[1;32mIn[8], line 3\u001b[0m\n\u001b[0;32m      1\u001b[0m \u001b[38;5;66;03m# Example of running Q-Learning\u001b[39;00m\n\u001b[0;32m      2\u001b[0m agent \u001b[38;5;241m=\u001b[39m Q_agent()\n\u001b[1;32m----> 3\u001b[0m policy, total_rewards, total_steps \u001b[38;5;241m=\u001b[39m \u001b[43magent\u001b[49m\u001b[38;5;241;43m.\u001b[39;49m\u001b[43msolve\u001b[49m\u001b[43m(\u001b[49m\u001b[43menv1\u001b[49m\u001b[43m)\u001b[49m\n",
      "Cell \u001b[1;32mIn[4], line 26\u001b[0m, in \u001b[0;36mQ_agent.solve\u001b[1;34m(self, env, n_episodes)\u001b[0m\n\u001b[0;32m      5\u001b[0m \u001b[38;5;250m\u001b[39m\u001b[38;5;124;03m\"\"\"\u001b[39;00m\n\u001b[0;32m      6\u001b[0m \u001b[38;5;124;03mSolve a given GridWorld environment using SARSA\u001b[39;00m\n\u001b[0;32m      7\u001b[0m \u001b[38;5;124;03minput: env {GridWorld object} -- GridWorld to solve\u001b[39;00m\n\u001b[1;32m   (...)\u001b[0m\n\u001b[0;32m     11\u001b[0m \u001b[38;5;124;03m  - total_steps {list of float} -- Corresponding list of successive total non-discounted sum of steps for each trial\u001b[39;00m\n\u001b[0;32m     12\u001b[0m \u001b[38;5;124;03m\"\"\"\u001b[39;00m\n\u001b[0;32m     14\u001b[0m \u001b[38;5;66;03m# Initialise your variables\u001b[39;00m\n\u001b[0;32m     15\u001b[0m \n\u001b[0;32m     16\u001b[0m \u001b[38;5;66;03m####\u001b[39;00m\n\u001b[1;32m   (...)\u001b[0m\n\u001b[0;32m     24\u001b[0m \n\u001b[0;32m     25\u001b[0m \u001b[38;5;66;03m# You may use these outputs to plot graphs\u001b[39;00m\n\u001b[1;32m---> 26\u001b[0m \u001b[38;5;28;01mreturn\u001b[39;00m \u001b[43mpolicy\u001b[49m, total_rewards, total_steps\n",
      "\u001b[1;31mNameError\u001b[0m: name 'policy' is not defined"
     ]
    }
   ],
   "source": [
    "# Example of running Q-Learning\n",
    "agent = Q_agent()\n",
    "policy, total_rewards, total_steps = agent.solve(env1)"
   ]
  },
  {
   "cell_type": "code",
   "execution_count": 9,
   "metadata": {},
   "outputs": [],
   "source": [
    "# Do your plots below! Include any new function definitions in this jupyter notebook!"
   ]
  },
  {
   "cell_type": "code",
   "execution_count": null,
   "metadata": {},
   "outputs": [],
   "source": []
  },
  {
   "cell_type": "markdown",
   "metadata": {},
   "source": [
    "## Task 2 - Dual Targets with Stochastic Rewards"
   ]
  },
  {
   "cell_type": "code",
   "execution_count": null,
   "metadata": {},
   "outputs": [],
   "source": [
    "# This should be the definition of the gridworld for task 1. DO NOT CHANGE THIS\n",
    "env2 = get_task2_gridworld()"
   ]
  },
  {
   "cell_type": "code",
   "execution_count": null,
   "metadata": {},
   "outputs": [],
   "source": [
    "# Example of running SARSA\n",
    "agent = SARSA_agent()\n",
    "policy, total_rewards, total_steps = agent.solve(env2)"
   ]
  },
  {
   "cell_type": "code",
   "execution_count": null,
   "metadata": {},
   "outputs": [],
   "source": [
    "# Example of running Q-Learning\n",
    "agent = Q_agent()\n",
    "policy, total_rewards, total_steps = agent.solve(env2)"
   ]
  },
  {
   "cell_type": "code",
   "execution_count": null,
   "metadata": {},
   "outputs": [],
   "source": [
    "# Do your plots below! Include any new function definitions in this jupyter notebook!"
   ]
  },
  {
   "cell_type": "code",
   "execution_count": null,
   "metadata": {},
   "outputs": [],
   "source": []
  },
  {
   "cell_type": "markdown",
   "metadata": {},
   "source": [
    "## Task 3 - Stochastic Transitions and Rewards"
   ]
  },
  {
   "cell_type": "code",
   "execution_count": null,
   "metadata": {},
   "outputs": [],
   "source": [
    "# This should be the definition of the gridworld for task 1. DO NOT CHANGE THIS\n",
    "env3 = get_task3_gridworld()"
   ]
  },
  {
   "cell_type": "code",
   "execution_count": null,
   "metadata": {},
   "outputs": [],
   "source": [
    "# Example of running SARSA\n",
    "agent = SARSA_agent()\n",
    "policy, total_rewards, total_steps = agent.solve(env3)"
   ]
  },
  {
   "cell_type": "code",
   "execution_count": null,
   "metadata": {},
   "outputs": [],
   "source": [
    "# Example of running Q-Learning\n",
    "agent = Q_agent()\n",
    "policy, total_rewards, total_steps = agent.solve(env3)"
   ]
  },
  {
   "cell_type": "code",
   "execution_count": null,
   "metadata": {},
   "outputs": [],
   "source": [
    "# Do your plots below! Include any new function definitions in this jupyter notebook!"
   ]
  },
  {
   "cell_type": "code",
   "execution_count": null,
   "metadata": {},
   "outputs": [],
   "source": []
  }
 ],
 "metadata": {
  "kernelspec": {
   "display_name": "Python 3",
   "language": "python",
   "name": "python3"
  },
  "language_info": {
   "codemirror_mode": {
    "name": "ipython",
    "version": 3
   },
   "file_extension": ".py",
   "mimetype": "text/x-python",
   "name": "python",
   "nbconvert_exporter": "python",
   "pygments_lexer": "ipython3",
   "version": "3.11.9"
  }
 },
 "nbformat": 4,
 "nbformat_minor": 2
}

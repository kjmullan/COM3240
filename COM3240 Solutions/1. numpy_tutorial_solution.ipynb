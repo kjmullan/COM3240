{
 "cells": [
  {
   "cell_type": "markdown",
   "id": "287c12da",
   "metadata": {
    "id": "287c12da"
   },
   "source": [
    "## What is Numpy? <br>\n",
    "\n",
    "NumPy is a widely used Python library for performing scientific computations. The advantages offered by Numpy make computational tasks, required in Machine Learning, to be much more strealimed compared to computational solutions offered by base Python functionalities. As such, Numpy has become the universal standard for working with numerical data in Python.\n",
    "\n",
    "NumPy can be used to perform a wide variety of mathematical operations on n-dimensional arrays, efficiently. Your assignment and lab tasks would required you to take advantage of the multidimensional array and matrix data structures offered by Numpy, so it's essential to get acquainted with the library."
   ]
  },
  {
   "cell_type": "markdown",
   "id": "68dd149d-008f-412f-a207-a3ded59af586",
   "metadata": {
    "id": "68dd149d-008f-412f-a207-a3ded59af586"
   },
   "source": [
    "#### NumPy will be used in all labs, along with matplotlib for plotting"
   ]
  },
  {
   "cell_type": "code",
   "execution_count": 1,
   "id": "09b20ca4",
   "metadata": {
    "id": "09b20ca4"
   },
   "outputs": [],
   "source": [
    "# The very first thing would be to import the numpy package\n",
    "# N.B.: An equivalent of this cell would be needed for every new notebook you use, and make sure to run it!\n",
    "import numpy as np"
   ]
  },
  {
   "cell_type": "markdown",
   "id": "f811ad9e",
   "metadata": {
    "id": "f811ad9e"
   },
   "source": [
    "### Simple comparison in efficiency\n",
    "Generally speaking, numpy functions will be more computationally efficient compared to in-built python methods. Here, we will compare the time to run a trivial operation using numpy arrays versus standard python methods to highlight this difference:"
   ]
  },
  {
   "cell_type": "code",
   "execution_count": 2,
   "id": "6e832afe",
   "metadata": {
    "id": "6e832afe"
   },
   "outputs": [],
   "source": [
    "# Create a python range object of integers in the range 0 to 1000\n",
    "L = range(1000)"
   ]
  },
  {
   "cell_type": "code",
   "execution_count": 3,
   "id": "62d381fc",
   "metadata": {
    "colab": {
     "base_uri": "https://localhost:8080/"
    },
    "id": "62d381fc",
    "outputId": "34a95aea-8ecd-4c2e-d0c2-b048066c8325"
   },
   "outputs": [
    {
     "name": "stdout",
     "output_type": "stream",
     "text": [
      "23 µs ± 284 ns per loop (mean ± std. dev. of 7 runs, 10,000 loops each)\n"
     ]
    }
   ],
   "source": [
    "# Command to time the execution of squaring each index in the range\n",
    "%timeit [i**2 for i in L]"
   ]
  },
  {
   "cell_type": "code",
   "execution_count": 4,
   "id": "7219f29b",
   "metadata": {
    "id": "7219f29b"
   },
   "outputs": [],
   "source": [
    "# Repeat the above but with the numpy equivalent of the in-built python functoin\n",
    "a = np.arange(1000)"
   ]
  },
  {
   "cell_type": "code",
   "execution_count": 5,
   "id": "a96b389c",
   "metadata": {
    "colab": {
     "base_uri": "https://localhost:8080/"
    },
    "id": "a96b389c",
    "outputId": "26da018b-8569-470f-b606-ddf8d7f439b1"
   },
   "outputs": [
    {
     "name": "stdout",
     "output_type": "stream",
     "text": [
      "409 ns ± 2.57 ns per loop (mean ± std. dev. of 7 runs, 1,000,000 loops each)\n"
     ]
    }
   ],
   "source": [
    "# Time the operation for squaring the array\n",
    "%timeit a**2"
   ]
  },
  {
   "cell_type": "markdown",
   "id": "b6a69860",
   "metadata": {
    "id": "b6a69860"
   },
   "source": [
    "### Use the help functionality for more information </br>\n",
    "To get more information on a given object/function, the 'help' command will print out details from the official documentation (https://numpy.org/doc/stable/user/index.html). This will often give information such as the input arguments, possible key-word arguments, information on what is returned, and examples of input/outputs.\n",
    "\n",
    "\n",
    "Also, Stackoverflow is your friend!"
   ]
  },
  {
   "cell_type": "code",
   "execution_count": 6,
   "id": "1d3058fe",
   "metadata": {
    "colab": {
     "base_uri": "https://localhost:8080/"
    },
    "id": "1d3058fe",
    "outputId": "a63e4d12-9f62-4e2e-e62f-efbf1688ec09"
   },
   "outputs": [
    {
     "name": "stdout",
     "output_type": "stream",
     "text": [
      "Help on built-in function array in module numpy:\n",
      "\n",
      "array(...)\n",
      "    array(object, dtype=None, *, copy=True, order='K', subok=False, ndmin=0,\n",
      "          like=None)\n",
      "\n",
      "    Create an array.\n",
      "\n",
      "    Parameters\n",
      "    ----------\n",
      "    object : array_like\n",
      "        An array, any object exposing the array interface, an object whose\n",
      "        ``__array__`` method returns an array, or any (nested) sequence.\n",
      "        If object is a scalar, a 0-dimensional array containing object is\n",
      "        returned.\n",
      "    dtype : data-type, optional\n",
      "        The desired data-type for the array. If not given, NumPy will try to use\n",
      "        a default ``dtype`` that can represent the values (by applying promotion\n",
      "        rules when necessary.)\n",
      "    copy : bool, optional\n",
      "        If true (default), then the object is copied.  Otherwise, a copy will\n",
      "        only be made if ``__array__`` returns a copy, if obj is a nested\n",
      "        sequence, or if a copy is needed to satisfy any of the other\n",
      "        requirements (``dtype``, ``order``, etc.).\n",
      "    order : {'K', 'A', 'C', 'F'}, optional\n",
      "        Specify the memory layout of the array. If object is not an array, the\n",
      "        newly created array will be in C order (row major) unless 'F' is\n",
      "        specified, in which case it will be in Fortran order (column major).\n",
      "        If object is an array the following holds.\n",
      "\n",
      "        ===== ========= ===================================================\n",
      "        order  no copy                     copy=True\n",
      "        ===== ========= ===================================================\n",
      "        'K'   unchanged F & C order preserved, otherwise most similar order\n",
      "        'A'   unchanged F order if input is F and not C, otherwise C order\n",
      "        'C'   C order   C order\n",
      "        'F'   F order   F order\n",
      "        ===== ========= ===================================================\n",
      "\n",
      "        When ``copy=False`` and a copy is made for other reasons, the result is\n",
      "        the same as if ``copy=True``, with some exceptions for 'A', see the\n",
      "        Notes section. The default order is 'K'.\n",
      "    subok : bool, optional\n",
      "        If True, then sub-classes will be passed-through, otherwise\n",
      "        the returned array will be forced to be a base-class array (default).\n",
      "    ndmin : int, optional\n",
      "        Specifies the minimum number of dimensions that the resulting\n",
      "        array should have.  Ones will be prepended to the shape as\n",
      "        needed to meet this requirement.\n",
      "    like : array_like, optional\n",
      "        Reference object to allow the creation of arrays which are not\n",
      "        NumPy arrays. If an array-like passed in as ``like`` supports\n",
      "        the ``__array_function__`` protocol, the result will be defined\n",
      "        by it. In this case, it ensures the creation of an array object\n",
      "        compatible with that passed in via this argument.\n",
      "\n",
      "        .. versionadded:: 1.20.0\n",
      "\n",
      "    Returns\n",
      "    -------\n",
      "    out : ndarray\n",
      "        An array object satisfying the specified requirements.\n",
      "\n",
      "    See Also\n",
      "    --------\n",
      "    empty_like : Return an empty array with shape and type of input.\n",
      "    ones_like : Return an array of ones with shape and type of input.\n",
      "    zeros_like : Return an array of zeros with shape and type of input.\n",
      "    full_like : Return a new array with shape of input filled with value.\n",
      "    empty : Return a new uninitialized array.\n",
      "    ones : Return a new array setting values to one.\n",
      "    zeros : Return a new array setting values to zero.\n",
      "    full : Return a new array of given shape filled with value.\n",
      "\n",
      "\n",
      "    Notes\n",
      "    -----\n",
      "    When order is 'A' and ``object`` is an array in neither 'C' nor 'F' order,\n",
      "    and a copy is forced by a change in dtype, then the order of the result is\n",
      "    not necessarily 'C' as expected. This is likely a bug.\n",
      "\n",
      "    Examples\n",
      "    --------\n",
      "    >>> np.array([1, 2, 3])\n",
      "    array([1, 2, 3])\n",
      "\n",
      "    Upcasting:\n",
      "\n",
      "    >>> np.array([1, 2, 3.0])\n",
      "    array([ 1.,  2.,  3.])\n",
      "\n",
      "    More than one dimension:\n",
      "\n",
      "    >>> np.array([[1, 2], [3, 4]])\n",
      "    array([[1, 2],\n",
      "           [3, 4]])\n",
      "\n",
      "    Minimum dimensions 2:\n",
      "\n",
      "    >>> np.array([1, 2, 3], ndmin=2)\n",
      "    array([[1, 2, 3]])\n",
      "\n",
      "    Type provided:\n",
      "\n",
      "    >>> np.array([1, 2, 3], dtype=complex)\n",
      "    array([ 1.+0.j,  2.+0.j,  3.+0.j])\n",
      "\n",
      "    Data-type consisting of more than one element:\n",
      "\n",
      "    >>> x = np.array([(1,2),(3,4)],dtype=[('a','<i4'),('b','<i4')])\n",
      "    >>> x['a']\n",
      "    array([1, 3])\n",
      "\n",
      "    Creating an array from sub-classes:\n",
      "\n",
      "    >>> np.array(np.mat('1 2; 3 4'))\n",
      "    array([[1, 2],\n",
      "           [3, 4]])\n",
      "\n",
      "    >>> np.array(np.mat('1 2; 3 4'), subok=True)\n",
      "    matrix([[1, 2],\n",
      "            [3, 4]])\n",
      "\n"
     ]
    }
   ],
   "source": [
    "help(np.array)"
   ]
  },
  {
   "cell_type": "markdown",
   "id": "d94fb0d9",
   "metadata": {
    "id": "d94fb0d9"
   },
   "source": [
    "### Finding the dimensions of a numpy arrays\n",
    "Careful consideration of the dimensions of numpy arrays is critical for performing mathematical operations on them. The number of dimensions and the size of each dimension can be checked using the following functions:"
   ]
  },
  {
   "cell_type": "code",
   "execution_count": 7,
   "id": "f3bed707",
   "metadata": {
    "colab": {
     "base_uri": "https://localhost:8080/"
    },
    "id": "f3bed707",
    "outputId": "cc2e958f-493a-4ea6-889d-f91f7014fd0e"
   },
   "outputs": [
    {
     "name": "stdout",
     "output_type": "stream",
     "text": [
      "Number of Dimensions:  1\n",
      "Size of dimensions:  (4,)\n"
     ]
    }
   ],
   "source": [
    "# Create an array\n",
    "a = np.array([0, 1, 2, 3])\n",
    "# Print the number of array dimensions\n",
    "print('Number of Dimensions: ', a.ndim)\n",
    "# Print the size of each dimension\n",
    "print('Size of dimensions: ', a.shape)"
   ]
  },
  {
   "cell_type": "code",
   "execution_count": 8,
   "id": "59ed7768",
   "metadata": {
    "colab": {
     "base_uri": "https://localhost:8080/"
    },
    "id": "59ed7768",
    "outputId": "e14d36fd-ddba-4787-be01-5524a511c4e4"
   },
   "outputs": [
    {
     "name": "stdout",
     "output_type": "stream",
     "text": [
      "Number of Dimensions:  2\n",
      "Size of dimensions:  (2, 3)\n"
     ]
    }
   ],
   "source": [
    "# As above but for a 2D Array\n",
    "b = np.array([[0, 1, 2], [3, 4, 5]])\n",
    "print('Number of Dimensions: ', b.ndim)\n",
    "print('Size of dimensions: ', b.shape)"
   ]
  },
  {
   "cell_type": "markdown",
   "id": "2f6e85bd",
   "metadata": {
    "id": "2f6e85bd"
   },
   "source": [
    "### Examples of how to create arrays\n",
    "Numpy has functions to construct arrays with specific properties, such as all zeroes, all ones, identity matrices etc:"
   ]
  },
  {
   "cell_type": "code",
   "execution_count": 9,
   "id": "07c9d62f",
   "metadata": {
    "colab": {
     "base_uri": "https://localhost:8080/"
    },
    "id": "07c9d62f",
    "outputId": "31d159a5-175e-4716-fdc3-d6315b8c8fdb"
   },
   "outputs": [
    {
     "name": "stdout",
     "output_type": "stream",
     "text": [
      "a = [[1. 1. 1. 1.]\n",
      " [1. 1. 1. 1.]\n",
      " [1. 1. 1. 1.]]\n",
      "b = [[0. 0.]\n",
      " [0. 0.]]\n",
      "I = [[1. 0. 0. 0. 0.]\n",
      " [0. 1. 0. 0. 0.]\n",
      " [0. 0. 1. 0. 0.]\n",
      " [0. 0. 0. 1. 0.]\n",
      " [0. 0. 0. 0. 1.]]\n"
     ]
    }
   ],
   "source": [
    "# Create a 3x4 matrix containing all ones\n",
    "a = np.ones((3, 4))\n",
    "print('a =', a)\n",
    "# Create a 2x2 matrix containing all zeroes\n",
    "b = np.zeros((2, 2))\n",
    "print('b =', b)\n",
    "# Create an identity matrix of size 5\n",
    "I = np.eye(5)\n",
    "print('I =', I)"
   ]
  },
  {
   "cell_type": "markdown",
   "id": "ca7af68c",
   "metadata": {
    "id": "ca7af68c"
   },
   "source": [
    "Creating arrays of random numbers sampled from particular distributions can also be done within numpy:"
   ]
  },
  {
   "cell_type": "code",
   "execution_count": 10,
   "id": "7afe372c",
   "metadata": {
    "colab": {
     "base_uri": "https://localhost:8080/"
    },
    "id": "7afe372c",
    "outputId": "e227a883-dbdd-41b9-a587-abf52efc9053"
   },
   "outputs": [
    {
     "name": "stdout",
     "output_type": "stream",
     "text": [
      "a : [[0.57936979 0.55051688 0.33915015 0.32443071]\n",
      " [0.03424211 0.18028858 0.17279423 0.24272225]\n",
      " [0.41506465 0.79397099 0.10336715 0.12480658]\n",
      " [0.32203717 0.27285726 0.9047103  0.6176942 ]]\n",
      "b : [-0.42748744 -0.86077195 -1.57189944  0.53696281]\n",
      "c : [1 1 0 1 1 1 0 0 0 1]\n"
     ]
    }
   ],
   "source": [
    "# Create a 4x4 matrix of numbers sampled from a uniform distribution between [0, 1]\n",
    "a = np.random.rand(4, 4)\n",
    "# Sample a vector of length 4 from a normal distribution (mean 0, standard deviation 1)\n",
    "b = np.random.randn(4)\n",
    "# Sample 10 random integers in the range [0, 2] (exclusive of upper limit)\n",
    "c = np.random.randint(0, 2, 10)\n",
    "\n",
    "# Print them out\n",
    "print('a :', a)\n",
    "print('b :', b)\n",
    "print('c :', c)"
   ]
  },
  {
   "cell_type": "markdown",
   "id": "e526aa5a",
   "metadata": {
    "id": "e526aa5a"
   },
   "source": [
    "Arrays can also be constructed containing strings:"
   ]
  },
  {
   "cell_type": "code",
   "execution_count": 11,
   "id": "a726a9d8",
   "metadata": {
    "colab": {
     "base_uri": "https://localhost:8080/"
    },
    "id": "a726a9d8",
    "outputId": "68ed317e-9a31-4879-a66f-f81dde55e788"
   },
   "outputs": [
    {
     "name": "stdout",
     "output_type": "stream",
     "text": [
      "['Bonjour' 'Hello' 'Hello']\n"
     ]
    }
   ],
   "source": [
    "# Create an array out of strings (comma delimited)\n",
    "f = np.array(['Bonjour', 'Hello', 'Hello',])\n",
    "print(f)"
   ]
  },
  {
   "cell_type": "markdown",
   "id": "a44069be",
   "metadata": {
    "id": "a44069be"
   },
   "source": [
    "### Indexing and slicing\n",
    "Accessing specific elements or subsections of an array is also very important for programming. Here we will cover the basic syntax for indexing and slicing numpy arrays. For all indexing, square brackets are used to denote that we are accessing elements within an array/list"
   ]
  },
  {
   "cell_type": "code",
   "execution_count": 12,
   "id": "785475d5",
   "metadata": {
    "colab": {
     "base_uri": "https://localhost:8080/"
    },
    "id": "785475d5",
    "outputId": "faa00891-fc10-4fcf-b6d7-86c8a9097cc3"
   },
   "outputs": [
    {
     "name": "stdout",
     "output_type": "stream",
     "text": [
      "[[ 0  1  2  3  4  5  6  7  8  9]\n",
      " [10 11 12 13 14 15 16 17 18 19]\n",
      " [20 21 22 23 24 25 26 27 28 29]\n",
      " [30 31 32 33 34 35 36 37 38 39]\n",
      " [40 41 42 43 44 45 46 47 48 49]\n",
      " [50 51 52 53 54 55 56 57 58 59]\n",
      " [60 61 62 63 64 65 66 67 68 69]\n",
      " [70 71 72 73 74 75 76 77 78 79]\n",
      " [80 81 82 83 84 85 86 87 88 89]\n",
      " [90 91 92 93 94 95 96 97 98 99]]\n"
     ]
    }
   ],
   "source": [
    "# Here, we will create an array of the numbers from 0-100 and arrange them into a 10x10 array\n",
    "a = np.arange(100).reshape(10, 10)\n",
    "# Print the array\n",
    "print(a)"
   ]
  },
  {
   "cell_type": "markdown",
   "id": "4Zhz2jeS4AiI",
   "metadata": {
    "id": "4Zhz2jeS4AiI"
   },
   "source": [
    "Indices are accessed in order of dimensions from left to right. Using fewer indices than the total number of dimensions in an array will return all data from unindexed dimensions. For example:"
   ]
  },
  {
   "cell_type": "code",
   "execution_count": 13,
   "id": "e1fa48f4",
   "metadata": {
    "colab": {
     "base_uri": "https://localhost:8080/"
    },
    "id": "e1fa48f4",
    "outputId": "4a6c68cc-4e56-44b3-da11-43abd5d7bc1a"
   },
   "outputs": [
    {
     "name": "stdout",
     "output_type": "stream",
     "text": [
      "1: 52\n",
      "2: [50 51 52 53 54 55 56 57 58 59]\n"
     ]
    }
   ],
   "source": [
    "# Printing the data from a[5, 2] will print out the index from row 5, column 2:\n",
    "print('1:', a[5, 2])\n",
    "# Whereas printing a[5] will print the entire row:\n",
    "print('2:', a[5])"
   ]
  },
  {
   "cell_type": "markdown",
   "id": "CaYBjFGL8yGx",
   "metadata": {
    "id": "CaYBjFGL8yGx"
   },
   "source": [
    "A colon can be used to access subsections of an array, here we will go through the different syntax:"
   ]
  },
  {
   "cell_type": "code",
   "execution_count": 14,
   "id": "1faf0e1c",
   "metadata": {
    "colab": {
     "base_uri": "https://localhost:8080/"
    },
    "id": "1faf0e1c",
    "outputId": "b5ee1fce-0521-4dd9-ef5c-1519f44762ef"
   },
   "outputs": [
    {
     "name": "stdout",
     "output_type": "stream",
     "text": [
      "Subsection 1:  [[20 21 22 23 24 25 26 27 28 29]\n",
      " [30 31 32 33 34 35 36 37 38 39]\n",
      " [40 41 42 43 44 45 46 47 48 49]]\n",
      "Subsection 2:  [[ 0  1  2  3  4  5  6  7  8  9]\n",
      " [10 11 12 13 14 15 16 17 18 19]]\n",
      "Subsection 3:  [[80 81 82 83 84 85 86 87 88 89]\n",
      " [90 91 92 93 94 95 96 97 98 99]]\n"
     ]
    }
   ],
   "source": [
    "# To slice a dimension between indices, you can use [x:y], which will return all indices from x up until (exclusive of) y\n",
    "print('Subsection 1: ', a[2:5])\n",
    "# You can also use single numbers, :x means 'all indices up to x', while 'y:' means 'all indices after y'\n",
    "print('Subsection 2: ', a[:2])\n",
    "print('Subsection 3: ', a[8:])"
   ]
  },
  {
   "cell_type": "markdown",
   "id": "ZyezEcXL9vRy",
   "metadata": {
    "id": "ZyezEcXL9vRy"
   },
   "source": [
    "You can also define a repeating step across indices using two colons, here the notation is starting_index:end_index:step_size:"
   ]
  },
  {
   "cell_type": "code",
   "execution_count": 15,
   "id": "09b938ed",
   "metadata": {
    "colab": {
     "base_uri": "https://localhost:8080/"
    },
    "id": "09b938ed",
    "outputId": "9ed738c9-85e4-49cd-e719-431d9a3043ba"
   },
   "outputs": [
    {
     "name": "stdout",
     "output_type": "stream",
     "text": [
      "[[20 21 22 23 24 25 26 27 28 29]\n",
      " [50 51 52 53 54 55 56 57 58 59]\n",
      " [80 81 82 83 84 85 86 87 88 89]]\n"
     ]
    }
   ],
   "source": [
    "print(a[2:9:3]) # [start:end:step size]"
   ]
  },
  {
   "cell_type": "code",
   "execution_count": 16,
   "id": "99eb9f10",
   "metadata": {
    "colab": {
     "base_uri": "https://localhost:8080/"
    },
    "id": "99eb9f10",
    "outputId": "7d5e3555-6b92-4a32-d2a9-2fded883cc22"
   },
   "outputs": [
    {
     "name": "stdout",
     "output_type": "stream",
     "text": [
      "[[ 0  1  2  3  4  5  6  7  8  9]\n",
      " [20 21 22 23 24 25 26 27 28 29]\n",
      " [40 41 42 43 44 45 46 47 48 49]\n",
      " [60 61 62 63 64 65 66 67 68 69]\n",
      " [80 81 82 83 84 85 86 87 88 89]]\n"
     ]
    }
   ],
   "source": [
    "# Another shorthand technique, by using just the step size after the double colons:\n",
    "print(a[::2])"
   ]
  },
  {
   "cell_type": "markdown",
   "id": "IJT2MFoI-yrW",
   "metadata": {
    "id": "IJT2MFoI-yrW"
   },
   "source": [
    "Sometimes, it is mathematically useful to expand a dimension to enable matches between number of dimensions for matrix operations. To expand a dimension, we can use 'None' as our index to expand the array in this direction. This allows us to be more explicit and avoid the assumed broadcasting rules (covered later!). For example:"
   ]
  },
  {
   "cell_type": "code",
   "execution_count": 17,
   "id": "DNv-fiF__F0O",
   "metadata": {
    "colab": {
     "base_uri": "https://localhost:8080/"
    },
    "id": "DNv-fiF__F0O",
    "outputId": "0c85d233-23d9-49bf-fb55-bb97df42b935"
   },
   "outputs": [
    {
     "name": "stdout",
     "output_type": "stream",
     "text": [
      "a:  [[0]\n",
      " [1]\n",
      " [2]] , shape :  (3, 1)\n",
      "b:  [[0 1 2]] , shape :  (1, 3)\n",
      "c:  [[[[0]\n",
      "   [1]\n",
      "   [2]]]] , shape :  (1, 1, 3, 1)\n"
     ]
    }
   ],
   "source": [
    "# Create a vector of length 3\n",
    "v = np.array([0, 1, 2])\n",
    "# If we want to expand this into a 3x1 array:\n",
    "a = v[:, None]\n",
    "print('a: ', a, ', shape : ', a.shape)\n",
    "# Conversely, to get a 1x3:\n",
    "b = v[None, :]\n",
    "print('b: ', b, ', shape : ', b.shape)\n",
    "# This can be done across multiple dimensions:\n",
    "c = v[None, None, :, None]\n",
    "print('c: ', c, ', shape : ', c.shape)"
   ]
  },
  {
   "cell_type": "markdown",
   "id": "75e64ad0",
   "metadata": {
    "id": "75e64ad0"
   },
   "source": [
    "#### Question:\n",
    "Create a 2-D array and obtain the coloured parts highlighted above through numpy array manipulations. (for simplicity call each subarray the highlighted colour) </br>\n",
    "<b>Challenge yourself:</b> There are multiple ways to create multi-dimension arrays in numpy. Can you find the quickest way?</br>\n",
    "[Hint: see if you can reuse np.arange to create 2D arrays]"
   ]
  },
  {
   "attachments": {},
   "cell_type": "markdown",
   "id": "31501237",
   "metadata": {
    "id": "31501237"
   },
   "source": [
    "### Lab Exercise - arrays and slicing </br>\n",
    "![ArraySlices.png](https://raw.githubusercontent.com/ianvidamour/ImagesForJupyter/main/ArraySlices.png)\n",
    "Adapted from \"Python Scientific lecture notes\", Haenel et al., 2013"
   ]
  },
  {
   "cell_type": "code",
   "execution_count": 18,
   "id": "ddde7918",
   "metadata": {},
   "outputs": [
    {
     "name": "stdout",
     "output_type": "stream",
     "text": [
      "[[ 0  1  2  3  4  5]\n",
      " [10 11 12 13 14 15]\n",
      " [20 21 22 23 24 25]\n",
      " [30 31 32 33 34 35]\n",
      " [40 41 42 43 44 45]\n",
      " [50 51 52 53 54 55]]\n",
      "Red:  [ 2 12 22 32 42 52]\n",
      "Orange:  [2 3 4]\n",
      "Green:  [[20 22 24]\n",
      " [40 42 44]]\n"
     ]
    }
   ],
   "source": [
    "# The above array\n",
    "Exercise_Array = np.arange(0, 6, 1)[None, :] + np.arange(0, 60, 10)[:, None]\n",
    "print(Exercise_Array)\n",
    "# Uncomment then insert your own code here\n",
    "Red = Exercise_Array[:, 2]\n",
    "Orange = Exercise_Array[0, 2:5]\n",
    "Green = Exercise_Array[2::2, 0::2]\n",
    "print('Red: ', Red)\n",
    "print('Orange: ', Orange)\n",
    "print('Green: ', Green)\n"
   ]
  },
  {
   "cell_type": "markdown",
   "id": "278d55e7",
   "metadata": {
    "id": "278d55e7"
   },
   "source": [
    "### Plotting data\n",
    "Matplotlib (https://matplotlib.org/stable/index.html) offers a good library with many graphical functions for plotting data, following a similar format to the plotting tools offered by matlab. Firstly, we will need to import the module in a similar manner to numpy:"
   ]
  },
  {
   "cell_type": "code",
   "execution_count": 19,
   "id": "c58784ac",
   "metadata": {
    "id": "c58784ac"
   },
   "outputs": [],
   "source": [
    "# Import the library\n",
    "import matplotlib.pyplot as plt"
   ]
  },
  {
   "cell_type": "code",
   "execution_count": 20,
   "id": "afc162ff",
   "metadata": {
    "colab": {
     "base_uri": "https://localhost:8080/",
     "height": 500
    },
    "id": "afc162ff",
    "outputId": "1f5abfb5-fda1-4ba2-fad0-02a1962ae06c"
   },
   "outputs": [
    {
     "data": {
      "image/png": "[encoded data removed]",
      "text/plain": [
       "<Figure size 640x480 with 1 Axes>"
      ]
     },
     "metadata": {},
     "output_type": "display_data"
    }
   ],
   "source": [
    "# Generate an set of x values\n",
    "xs = np.arange(0, 100, 1)\n",
    "# Some function of x\n",
    "f = xs**2 + 2*xs + 5\n",
    "# Initialise a figure within pyplot\n",
    "plt.figure()\n",
    "# Plot the data, keyword arguments can be used to change the style of the plot\n",
    "plt.plot(xs, f, label='f(x) = x^2 + 2x + 5', marker='.', color='blue', ls='--')\n",
    "# Add a label to the x-axis\n",
    "plt.xlabel('x', fontsize=22)\n",
    "# Add a label to the y-axis\n",
    "plt.ylabel('f(x)', fontsize=22)\n",
    "# Give the plot a title\n",
    "plt.title('My Data', fontsize=26)\n",
    "# Add a legend\n",
    "plt.legend(frameon=False, fontsize=20)\n",
    "# Show the plot\n",
    "plt.show()"
   ]
  },
  {
   "cell_type": "markdown",
   "id": "83cd25ca",
   "metadata": {
    "id": "83cd25ca"
   },
   "source": [
    "### Numerical operations on arrays\n",
    "Here we will go through some basic mathematical operations on numpy arrays"
   ]
  },
  {
   "cell_type": "markdown",
   "id": "15de0236",
   "metadata": {
    "id": "15de0236"
   },
   "source": [
    "#### Transpose of a matrix"
   ]
  },
  {
   "cell_type": "code",
   "execution_count": 21,
   "id": "96debe34",
   "metadata": {
    "colab": {
     "base_uri": "https://localhost:8080/"
    },
    "id": "96debe34",
    "outputId": "4541df76-da05-463f-e5ea-6f6f5ac4a44e"
   },
   "outputs": [
    {
     "name": "stdout",
     "output_type": "stream",
     "text": [
      "Transpose:  [[ 0  5 10]\n",
      " [ 1  6 11]\n",
      " [ 2  7 12]]\n"
     ]
    }
   ],
   "source": [
    "# To transpose a matrix, simply add '.T' to the end of a numpy array\n",
    "a = np.array([[0,1,2], [5,6,7], [10,11,12]])\n",
    "print('Transpose: ', a.T)"
   ]
  },
  {
   "cell_type": "code",
   "execution_count": 22,
   "id": "c4a9907c",
   "metadata": {
    "colab": {
     "base_uri": "https://localhost:8080/"
    },
    "id": "c4a9907c",
    "outputId": "4893d3cd-2fb7-49e0-c057-5227fb4c0910"
   },
   "outputs": [
    {
     "name": "stdout",
     "output_type": "stream",
     "text": [
      "Original array:  (3, 4, 2)\n",
      "Permuted array:  (2, 3, 4)\n"
     ]
    }
   ],
   "source": [
    "# If we wish to permute the dimensions of a >2D array, we can use '.transpose()' with the desired order of indices in the parentheses:\n",
    "a = np.random.ranf((3, 4, 2))\n",
    "print('Original array: ', a.shape)\n",
    "print('Permuted array: ', a.transpose(2, 0, 1).shape)"
   ]
  },
  {
   "cell_type": "markdown",
   "id": "0f9abded",
   "metadata": {
    "id": "0f9abded"
   },
   "source": [
    "#### Array and matrix operations\n",
    "For operations involving an array and a scalar value, the operation is performed element-wise"
   ]
  },
  {
   "cell_type": "code",
   "execution_count": 23,
   "id": "3e3a9235",
   "metadata": {
    "colab": {
     "base_uri": "https://localhost:8080/"
    },
    "id": "3e3a9235",
    "outputId": "1ddf9c54-6b48-401c-873c-29567c3d5da3"
   },
   "outputs": [
    {
     "name": "stdout",
     "output_type": "stream",
     "text": [
      "Addition:  [2 3 4 5]\n",
      "Multiplication:  [ 5 10 15 20]\n",
      "Exponentiation:  [ 1  4  9 16]\n"
     ]
    }
   ],
   "source": [
    "a = np.array([1, 2, 3, 4])\n",
    "# Element wise addition:\n",
    "print('Addition: ', a+1)\n",
    "# Multiplication of each element:\n",
    "print('Multiplication: ', a*5)\n",
    "# Taking the square of each element:\n",
    "print('Exponentiation: ', a**2)"
   ]
  },
  {
   "cell_type": "markdown",
   "id": "2G3Mon45FFXv",
   "metadata": {
    "id": "2G3Mon45FFXv"
   },
   "source": [
    "In numpy, the '*' between arrays of the same shape performs element-wise operations"
   ]
  },
  {
   "cell_type": "code",
   "execution_count": 24,
   "id": "2e22b821",
   "metadata": {
    "colab": {
     "base_uri": "https://localhost:8080/"
    },
    "id": "2e22b821",
    "outputId": "03a0f563-f60b-49e5-c4f0-6c4a46ee12fd"
   },
   "outputs": [
    {
     "name": "stdout",
     "output_type": "stream",
     "text": [
      "a =   [1 2 3 4]\n",
      "b =   [2 4 6 8]\n",
      "a*b =  [ 2  8 18 32]\n"
     ]
    }
   ],
   "source": [
    "# Array Multiplication\n",
    "a = np.array([1, 2, 3, 4])\n",
    "b = np.array([2, 4, 6, 8])\n",
    "c = a * b\n",
    "print('a =  ', a)\n",
    "print('b =  ', b)\n",
    "print('a*b = ', c)"
   ]
  },
  {
   "cell_type": "markdown",
   "id": "NeZpZ-97Fbzv",
   "metadata": {
    "id": "NeZpZ-97Fbzv"
   },
   "source": [
    "For the dot product (the sum of element-wise multiplication), we can use the numpy 'dot' function:"
   ]
  },
  {
   "cell_type": "code",
   "execution_count": 25,
   "id": "500147b2",
   "metadata": {
    "colab": {
     "base_uri": "https://localhost:8080/"
    },
    "id": "500147b2",
    "outputId": "f450b2d6-5429-45fa-b992-97d3e2757eec"
   },
   "outputs": [
    {
     "name": "stdout",
     "output_type": "stream",
     "text": [
      "Dot product: 60\n"
     ]
    }
   ],
   "source": [
    "dot = np.dot(a, b)\n",
    "print('Dot product:', dot) # dot product"
   ]
  },
  {
   "cell_type": "markdown",
   "id": "Nsztl7_DF4WD",
   "metadata": {
    "id": "Nsztl7_DF4WD"
   },
   "source": [
    "For the true matrix multiplication (cross-product), we can use np.matmul:"
   ]
  },
  {
   "cell_type": "code",
   "execution_count": 26,
   "id": "92d07a75",
   "metadata": {
    "colab": {
     "base_uri": "https://localhost:8080/"
    },
    "id": "92d07a75",
    "outputId": "b2b4ff9d-027a-44ed-b910-175ffce07f59"
   },
   "outputs": [
    {
     "name": "stdout",
     "output_type": "stream",
     "text": [
      "Matrix a:  [[0 1]\n",
      " [2 3]\n",
      " [4 5]\n",
      " [6 7]\n",
      " [8 9]] Shape :  (5, 2)\n",
      "Matrix b:  [[10 11 12]\n",
      " [13 14 15]] Shape :  (2, 3)\n",
      "Cross product:  [[ 13  14  15]\n",
      " [ 59  64  69]\n",
      " [105 114 123]\n",
      " [151 164 177]\n",
      " [197 214 231]] Shape :  (5, 3)\n"
     ]
    }
   ],
   "source": [
    "# For the cross product, the shape of the arrays is important (the second dimension of array a must be the same as the first dimension in array b)\n",
    "a = np.arange(0, 10).reshape(5, 2)\n",
    "b = np.arange(10, 16).reshape(2, 3)\n",
    "print('Matrix a: ', a, 'Shape : ', a.shape)\n",
    "print('Matrix b: ', b, 'Shape : ', b.shape)\n",
    "cross = np.matmul(a, b)\n",
    "print('Cross product: ', cross, 'Shape : ', cross.shape)"
   ]
  },
  {
   "cell_type": "markdown",
   "id": "e63072e3",
   "metadata": {
    "id": "e63072e3"
   },
   "source": [
    "#### Computing sums by specifying axes\n",
    "We can take the sum of entire arrays, or restrict the sum to preserve given dimensions:"
   ]
  },
  {
   "attachments": {},
   "cell_type": "markdown",
   "id": "72dfa0c1",
   "metadata": {
    "id": "72dfa0c1"
   },
   "source": [
    "![SumsByAxis.png](https://raw.githubusercontent.com/ianvidamour/ImagesForJupyter/main/SumsByAxis.png)\n",
    "Adapted from \"Python Scientific lecture notes\", Haenel et al., 2013"
   ]
  },
  {
   "cell_type": "code",
   "execution_count": 27,
   "id": "a306cbe3",
   "metadata": {
    "colab": {
     "base_uri": "https://localhost:8080/"
    },
    "id": "a306cbe3",
    "outputId": "e7edc1c6-5590-4bcf-b2cb-3070fd56784a"
   },
   "outputs": [
    {
     "name": "stdout",
     "output_type": "stream",
     "text": [
      "Original Array:  [[0 1 2]\n",
      " [3 4 5]\n",
      " [6 7 8]]\n",
      "Sum of entire array <built-in function sum>\n",
      "Sum on axis 0:  [ 9 12 15]\n",
      "Sum on axis 1:  [ 3 12 21]\n"
     ]
    }
   ],
   "source": [
    "# Create a numpy array\n",
    "x = np.arange(0, 9).reshape(3, 3)\n",
    "print('Original Array: ', x)\n",
    "# Sum of entire array\n",
    "all_sum = x.sum()\n",
    "print('Sum of entire array', sum)\n",
    "# Sum over dimension 0:\n",
    "zero_sum = x.sum(axis=0)\n",
    "print('Sum on axis 0: ', zero_sum)\n",
    "# Sum over dimension 1:\n",
    "one_sum = x.sum(axis=1)\n",
    "print('Sum on axis 1: ', one_sum)"
   ]
  },
  {
   "cell_type": "markdown",
   "id": "c043ae76",
   "metadata": {
    "id": "c043ae76"
   },
   "source": [
    "#### Deriving simple statistics from arrays\n",
    "There are many in-built funcitons that will give us statistics on a given array"
   ]
  },
  {
   "cell_type": "code",
   "execution_count": 28,
   "id": "22cc7c79",
   "metadata": {
    "colab": {
     "base_uri": "https://localhost:8080/"
    },
    "id": "22cc7c79",
    "outputId": "e3b70998-7407-4287-f143-ec61f7de4401"
   },
   "outputs": [
    {
     "name": "stdout",
     "output_type": "stream",
     "text": [
      "Mean of normally distributed samples:  -0.0032404380029068514\n",
      "Mean of uniformly distributed samples:  0.4974666274780775\n",
      "Max of normally distributed samples:  3.955135438835237\n",
      "Max of uniformly distributed samples:  0.99997011708555\n"
     ]
    }
   ],
   "source": [
    "# Generate a pair of arrays, one normally distributed, the other uniformly distributed\n",
    "normal = np.random.randn(10000)\n",
    "uniform = np.random.ranf(10000)\n",
    "# Take their means\n",
    "mean_normal = normal.mean()\n",
    "mean_uniform = uniform.mean()\n",
    "print('Mean of normally distributed samples: ', mean_normal)\n",
    "print('Mean of uniformly distributed samples: ', mean_uniform)\n",
    "# Take their maximums\n",
    "max_normal = normal.max()\n",
    "max_uniform = uniform.max()\n",
    "print('Max of normally distributed samples: ', max_normal)\n",
    "print('Max of uniformly distributed samples: ', max_uniform)"
   ]
  },
  {
   "cell_type": "markdown",
   "id": "azLl9SZLIjVd",
   "metadata": {
    "id": "azLl9SZLIjVd"
   },
   "source": [
    "Numpy has many, many useful statistical properties of arrays, including standard deviation, median, etc. Search the documentation if you're after a specific operation!"
   ]
  },
  {
   "cell_type": "markdown",
   "id": "af9c5c36",
   "metadata": {
    "id": "af9c5c36"
   },
   "source": [
    "### Broadcasting\n",
    "Basic mathematical operations on numpy arrays are performed elementwise. It's intuitive to see how these operations  work on arrays of the same size. However, it's possible to perform operations on arrays of different sizes, if Numpy can convert arrays, of different dimensions, into compliant dimensions. This type of conversion is called <b>broadcasting</b>"
   ]
  },
  {
   "attachments": {},
   "cell_type": "markdown",
   "id": "b61ac7c8",
   "metadata": {
    "id": "b61ac7c8"
   },
   "source": [
    "![Broadcasting.png](https://github.com/ianvidamour/ImagesForJupyter/blob/main/Broadcasting.png?raw=true)\n",
    "Adapted from \"Python Scientific lecture notes\", Haenel et al., 2013"
   ]
  },
  {
   "cell_type": "code",
   "execution_count": 29,
   "id": "0bf495e2",
   "metadata": {
    "id": "0bf495e2"
   },
   "outputs": [],
   "source": [
    "a = np.tile(np.arange(0, 40, 10), (3, 1)).T # np.tile is a versatile tool. Can you see what's happening here?\n",
    "                                            # A good explanation can be found at:\n",
    "                                            # https://www.sharpsightlabs.com/blog/numpy-tile/"
   ]
  },
  {
   "cell_type": "code",
   "execution_count": 30,
   "id": "058fe340",
   "metadata": {
    "colab": {
     "base_uri": "https://localhost:8080/"
    },
    "id": "058fe340",
    "outputId": "dbb436dc-66fa-474e-f0b3-bc2fd152adb8"
   },
   "outputs": [
    {
     "data": {
      "text/plain": [
       "(4, 3)"
      ]
     },
     "execution_count": 30,
     "metadata": {},
     "output_type": "execute_result"
    }
   ],
   "source": [
    "a.shape"
   ]
  },
  {
   "cell_type": "code",
   "execution_count": 31,
   "id": "645bba73",
   "metadata": {
    "colab": {
     "base_uri": "https://localhost:8080/"
    },
    "id": "645bba73",
    "outputId": "f22fb718-b217-4d71-bca1-a63f07a9b2d2"
   },
   "outputs": [
    {
     "data": {
      "text/plain": [
       "(3,)"
      ]
     },
     "execution_count": 31,
     "metadata": {},
     "output_type": "execute_result"
    }
   ],
   "source": [
    "b = np.array([0, 1, 2])\n",
    "b.shape"
   ]
  },
  {
   "cell_type": "code",
   "execution_count": 32,
   "id": "bf42100d",
   "metadata": {
    "colab": {
     "base_uri": "https://localhost:8080/"
    },
    "id": "bf42100d",
    "outputId": "5b4ef1cc-7e0c-479a-e93a-eb6336cef223"
   },
   "outputs": [
    {
     "data": {
      "text/plain": [
       "array([[ 0,  1,  2],\n",
       "       [10, 11, 12],\n",
       "       [20, 21, 22],\n",
       "       [30, 31, 32]])"
      ]
     },
     "execution_count": 32,
     "metadata": {},
     "output_type": "execute_result"
    }
   ],
   "source": [
    "a + b"
   ]
  },
  {
   "cell_type": "markdown",
   "id": "8ffdb158",
   "metadata": {
    "id": "8ffdb158"
   },
   "source": [
    "## Comparison between numpy and for-loops <br>\n",
    "\n",
    "The following two exercises will go over the array and matrix operations using numpy and regular for-loops. As you run the code, you will get to see the increase in efficiency that's offered by numpy."
   ]
  },
  {
   "cell_type": "markdown",
   "id": "72749c17",
   "metadata": {
    "id": "72749c17"
   },
   "source": [
    "### Comparison of Array operations\n"
   ]
  },
  {
   "cell_type": "code",
   "execution_count": 33,
   "id": "522b6a99",
   "metadata": {
    "colab": {
     "base_uri": "https://localhost:8080/",
     "height": 86
    },
    "id": "522b6a99",
    "outputId": "aabbbcba-adf1-4404-ec0b-4c8f067bd995"
   },
   "outputs": [
    {
     "data": {
      "text/plain": [
       "(1000000,)"
      ]
     },
     "metadata": {},
     "output_type": "display_data"
    },
    {
     "data": {
      "text/plain": [
       "(1000000,)"
      ]
     },
     "metadata": {},
     "output_type": "display_data"
    },
    {
     "name": "stdout",
     "output_type": "stream",
     "text": [
      "Sum of products with for loop:  7.161630874999901\n",
      "Sum of products with numpy:  0.06495712499963702\n"
     ]
    }
   ],
   "source": [
    "import numpy as np\n",
    "import timeit\n",
    "\n",
    "\n",
    "def sum_product_with_for_loop(array1, array2) -> int:\n",
    "    sum = 0\n",
    "    for i, j in zip(array1, array2):\n",
    "        sum += i * j\n",
    "    return sum\n",
    "\n",
    "\n",
    "def sum_product_with_np_sum(array1, array2) -> int:\n",
    "    return np.sum(array1 * array2)\n",
    "\n",
    "\n",
    "if __name__ == \"__main__\":\n",
    "    array1 = np.random.randint(0, 100, 1000000)\n",
    "    array2 = np.random.randint(0, 100, 1000000)\n",
    "\n",
    "    display(array1.shape)\n",
    "    display(array2.shape)\n",
    "\n",
    "    # Print the time taken to execute the function\n",
    "    print(\"Sum of products with for loop: \",\n",
    "          timeit.timeit(lambda: sum_product_with_for_loop(array1, array2), number=100))\n",
    "\n",
    "    print(\"Sum of products with numpy: \", timeit.timeit(lambda: sum_product_with_np_sum(array1, array2), number=100))"
   ]
  },
  {
   "cell_type": "markdown",
   "id": "c3121b61",
   "metadata": {
    "id": "c3121b61"
   },
   "source": [
    "### Comparison of matrix operations"
   ]
  },
  {
   "cell_type": "markdown",
   "id": "2ec7a855",
   "metadata": {
    "id": "2ec7a855"
   },
   "source": [
    "**Important note**: Please review matrix multiplication, see Jupyter Notebook matrix_multiplication\n",
    ".ipynb"
   ]
  },
  {
   "cell_type": "code",
   "execution_count": 34,
   "id": "7f96198e",
   "metadata": {
    "id": "7f96198e"
   },
   "outputs": [],
   "source": [
    "def matrix_muliplication_with_np(matrix1, matrix2):\n",
    "    return np.matmul(matrix1, matrix2)\n",
    "\n",
    "\n",
    "def matrix_multiplication_with_for_loop(matrix1, matrix2):\n",
    "    result = np.zeros((len(matrix1), len(matrix2[0])))\n",
    "\n",
    "    for i in range(len(matrix1)):\n",
    "        for k in range(len(matrix2)):\n",
    "            for j in range(len(matrix2[0])):\n",
    "                result[i][j] += matrix1[i][k] * matrix2[k][j]\n",
    "\n",
    "    return result\n",
    "\n",
    "#if __name__ == \"__main__\":\n",
    "    matrix1 = np.random.randint(1, 10, (1000, 1000))\n",
    "    matrix2 = np.random.randint(1, 10, (1000, 1000))\n",
    "\n",
    "    display(matrix1.shape)\n",
    "    display(matrix2.shape)\n",
    "\n",
    "    print(\n",
    "        \"Matrix multiplication with numpy: \",\n",
    "        timeit.timeit(lambda: matrix_muliplication_with_np(matrix1, matrix2), number=1),\n",
    "    )\n",
    "    print(\n",
    "        \"Matrix multiplication with for loop: \",\n",
    "        timeit.timeit(\n",
    "            lambda: matrix_multiplication_with_for_loop(matrix1, matrix2), number=1\n",
    "        ),\n",
    "    )"
   ]
  },
  {
   "cell_type": "markdown",
   "id": "d57d7be9",
   "metadata": {
    "id": "d57d7be9"
   },
   "source": [
    "## Lab Exercise - Visualizing the efficiency of Numpy </br>\n",
    "\n",
    "Plot a graph showing the running time for the multiplication of two matrices nxn with np.matmul and  \"for loops\" as a function of n. (These are defined above so no need to write yourself!). Also plot a second graph showing the running time for the multiplication of two matrices nxn with np.matmul only. All of the required information should have been covered in this worksheet, but if in doubt search the documentation or use the help function!"
   ]
  },
  {
   "cell_type": "code",
   "execution_count": 38,
   "id": "414023d6",
   "metadata": {
    "id": "414023d6"
   },
   "outputs": [
    {
     "data": {
      "image/png": "[encoded data removed]",
      "text/plain": [
       "<Figure size 640x480 with 1 Axes>"
      ]
     },
     "metadata": {},
     "output_type": "display_data"
    }
   ],
   "source": [
    "def matrix_muliplication_with_np(matrix1, matrix2):\n",
    "    return np.matmul(matrix1, matrix2)\n",
    "\n",
    "\n",
    "def matrix_multiplication_with_for_loop(matrix1, matrix2):\n",
    "    result = np.zeros((len(matrix1), len(matrix2[0])))\n",
    "\n",
    "    for i in range(len(matrix1)):\n",
    "        for k in range(len(matrix2)):\n",
    "            for j in range(len(matrix2[0])):\n",
    "                result[i][j] += matrix1[i][k] * matrix2[k][j]\n",
    "\n",
    "    return result\n",
    "\n",
    "n=100\n",
    "\n",
    "timing_matrix_multiplication_numpy=np.zeros(n)\n",
    "timing_matrix_multiplication_for_loop=np.zeros(n)\n",
    "\n",
    "\n",
    "for n in range(1,n+1):\n",
    "    matrix1 = np.random.randint(1, 10, (n, n))\n",
    "    matrix2 = np.random.randint(1, 10, (n, n))\n",
    "    \n",
    "    timing_matrix_multiplication_numpy[n-1]=timeit.timeit(lambda: matrix_muliplication_with_np(matrix1, matrix2), number=1);\n",
    "    timing_matrix_multiplication_for_loop[n-1]=timeit.timeit(lambda: matrix_multiplication_with_for_loop(matrix1, matrix2), number=1);\n",
    "    \n",
    "import matplotlib.pyplot as plt\n",
    "\n",
    "x=range(1,n+1)\n",
    "\n",
    "plt.plot(x,timing_matrix_multiplication_numpy,label = \"np.matmul\")\n",
    "\n",
    "plt.plot(x,timing_matrix_multiplication_for_loop,label = \"for loop\")\n",
    "\n",
    "plt.xlabel('Matrix dimention n')\n",
    "plt.ylabel('Execution time')\n",
    "plt.legend()\n",
    "plt.suptitle('Comparison of different matrix multiplication implementations. \\n The \"for\" loops should be avoided whenever possible.', fontsize=14)\n",
    "plt.legend(bbox_to_anchor =(1, 1))\n",
    "plt.show()    "
   ]
  },
  {
   "cell_type": "code",
   "execution_count": 40,
   "id": "90c62259-c272-4e13-83e2-03e08e8b5473",
   "metadata": {},
   "outputs": [
    {
     "data": {
      "image/png": "[encoded data removed]",
      "text/plain": [
       "<Figure size 640x480 with 1 Axes>"
      ]
     },
     "metadata": {},
     "output_type": "display_data"
    }
   ],
   "source": [
    "plt.plot(x,timing_matrix_multiplication_numpy,label = \"np.matmul\")\n",
    "plt.xlabel('Matrix dimention n')\n",
    "plt.ylabel('Execution time')\n",
    "plt.legend()\n",
    "plt.suptitle('The execution time for np.matmul increases but in comparison to  \\n \"for loop\" appears flat. Why the graph is not smooth?', fontsize=14)\n",
    "plt.legend(bbox_to_anchor =(1, 1))\n",
    "plt.show() "
   ]
  },
  {
   "cell_type": "code",
   "execution_count": null,
   "id": "54b48c2f-31e5-4606-a5d7-16319f349d91",
   "metadata": {},
   "outputs": [],
   "source": []
  }
 ],
 "metadata": {
  "colab": {
   "provenance": []
  },
  "kernelspec": {
   "display_name": "Python 3 (ipykernel)",
   "language": "python",
   "name": "python3"
  },
  "language_info": {
   "codemirror_mode": {
    "name": "ipython",
    "version": 3
   },
   "file_extension": ".py",
   "mimetype": "text/x-python",
   "name": "python",
   "nbconvert_exporter": "python",
   "pygments_lexer": "ipython3",
   "version": "3.12.1"
  }
 },
 "nbformat": 4,
 "nbformat_minor": 5
}

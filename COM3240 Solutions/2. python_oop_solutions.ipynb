{
 "cells": [
  {
   "cell_type": "markdown",
   "metadata": {
    "id": "0AzoHmz52yVe"
   },
   "source": [
    "This tutorial is an introduction to Object-Oriented Programming (OOP) using Python. OOP generally means that the language uses concepts like **classes**, and **objects** (i.e. an imperative programming language - defining HOW a computation is performed).\n",
    "\n",
    "**A little bit about Python vs Other Programming Languages: [extra]**\n",
    "\n",
    "\n",
    "Contrary to statically typed programming languages (e.g. Java, C++, Rust), Python is a dynamic programming language thus more forgiving when it comes to typing, variable declaration etc.\n",
    "\n",
    "\n",
    "This tutorial is not complete - OOP takes a lot of PRACTISE to master and there are many hidden but interesting concepts which unfortunately there is no time to cover. OOP is not hard at all! And Python is super beginner-friendly! The following tutorial has the BASICS.\n",
    "\n",
    "**Great resources:**\n",
    "- [Python Documentation](https://www.bing.com/ck/a?!&&p=fcda5f14ec199d17JmltdHM9MTcwNzA5MTIwMCZpZ3VpZD0zYjZhZTEzMy04NjlkLTY5ZDgtMGI5Ny1mNTJmODdjYzY4MTUmaW5zaWQ9NTIxMQ&ptn=3&ver=2&hsh=3&fclid=3b6ae133-869d-69d8-0b97-f52f87cc6815&psq=python+documentation&u=a1aHR0cHM6Ly93d3cucHl0aG9uLm9yZy9kb2Mv&ntb=1) (maybe a bit overwhelming for beginners, but it covers everything - there is a need begineers guide [here](https://wiki.python.org/moin/BeginnersGuide))\n",
    "- Matthes, E. (2019) Python crash course : a hands-on, project-based introduction to programming. Second edition. San Francisco, California: No Starch Press. (great book on OOP programming in Python for begineers, also available for free [online](https://find.shef.ac.uk/primo-explore/fulldisplay?docid=44SFD_ALMA_DS51339872210001441&context=L&vid=44SFD_VU2&lang=en_US&search_scope=SCOP_EVERYTHING&adaptor=Local%20Search%20Engine&tab=everything&query=any,contains,Python%20Crash%20Course&offset=0))\n",
    "\n",
    "Most of the code snippets and some definitions have been adapted from: https://www.geeksforgeeks.org/python-oops-concepts/\n",
    "\n",
    "*Tutorial and mistakes by Stefanos Ioannou (s.ioannou@sheffield.ac.uk)*"
   ]
  },
  {
   "cell_type": "code",
   "execution_count": 9,
   "metadata": {
    "id": "c5oTfONU3_Co"
   },
   "outputs": [],
   "source": [
    "import numpy as np"
   ]
  },
  {
   "cell_type": "markdown",
   "metadata": {
    "id": "zzeDbmNcCMbp"
   },
   "source": [
    "# Class, Objects, Method, Variables"
   ]
  },
  {
   "cell_type": "markdown",
   "metadata": {
    "id": "BZ5IfKVP4EVu"
   },
   "source": [
    "A class contains the prototype/instructions/recipe from which the objects are being created/instantiated.\n",
    "\n",
    "*P.S Comments start with # in Python!*\n",
    "\n",
    "A class may contain:\n",
    "- Class variables / Attributes (these are properties of a class)\n",
    "- Methods (these are functions that either belong to the object or to the class)\n",
    "- Other Classes (we are not covering these :[ )\n",
    "\n",
    "Using a class one can CAN CREATE AN OBJECT - instances of a class."
   ]
  },
  {
   "cell_type": "code",
   "execution_count": 10,
   "metadata": {
    "id": "1oCn1ZHi4LfF"
   },
   "outputs": [],
   "source": [
    "# Class Definition.\n",
    "class ClassName:\n",
    "\n",
    "  # CLASS ATTRIBUTE/VARIABLE\n",
    "  var1 = 1\n",
    "\n",
    "  # CONSTRUCTOR METHOD: This is possibly the most important method.\n",
    "  # First method that is called when the object is constructed\n",
    "  # It defines INSTANCE VARIABLES\n",
    "  # This method needs to be called __init__\n",
    "  # It can take as many parameters/arguments as you like\n",
    "  # If no instance methods are required at the start of the object's life, you can\n",
    "  # safely skip this method.\n",
    "  def __init__(self):\n",
    "    # DEFINING INSTANCE VARIABLES: self.[name of the variable]\n",
    "    self.var2 = 2\n",
    "    # LOCAL VARIABLE: NOT ACCESSIBLE outside of this method\n",
    "    var3 = 4\n",
    "\n",
    "  # Instance Method - also called a function. This method BELONGS TO THE OBJECTS.\n",
    "  # This type of methods always take 'self' as the first parameter!\n",
    "  def func1(self):\n",
    "    print('I DONT KNOW MATLAB')\n",
    "\n",
    "  # Class Method - also called a function. These methods BELONG TO THE CLASS.\n",
    "  # The have no 'self', but have these special tag.\n",
    "  @staticmethod\n",
    "  def func2():\n",
    "    print('I LOVE PYTHON')\n",
    "\n",
    "  # This is how we access instance variables from within an instance method\n",
    "  def func3(self):\n",
    "    print(self.var2)\n",
    "\n",
    "  # This is how we access class variables from within an instance method\n",
    "  def func4(self):\n",
    "    print(ClassName.var1)\n",
    "\n",
    "  # This method creates an instance variable!\n",
    "  # This way of instantiating variables is called LAZY INSTANTIATION\n",
    "  # This is not always safe to use!\n",
    "  def func5(self):\n",
    "    self.var4 = 'lazy'\n",
    "\n",
    "  def func6(self):\n",
    "    return 5"
   ]
  },
  {
   "cell_type": "code",
   "execution_count": 11,
   "metadata": {
    "id": "U61OvNnq4WPm"
   },
   "outputs": [],
   "source": [
    "# CREATING OBJECTS - this calls the __init__ method, also called INSTANTIATING AN OBJECT\n",
    "obj = ClassName()"
   ]
  },
  {
   "cell_type": "code",
   "execution_count": 12,
   "metadata": {
    "colab": {
     "base_uri": "https://localhost:8080/"
    },
    "id": "PiG2CemZ6Q_R",
    "outputId": "d4dd22c7-4f17-4956-dc36-b41686ea26f9"
   },
   "outputs": [
    {
     "name": "stdout",
     "output_type": "stream",
     "text": [
      "I DONT KNOW MATLAB\n"
     ]
    }
   ],
   "source": [
    "# CALLING INSTANCE METHODS: I need the object\n",
    "obj.func1()"
   ]
  },
  {
   "cell_type": "code",
   "execution_count": 13,
   "metadata": {
    "colab": {
     "base_uri": "https://localhost:8080/"
    },
    "id": "oKdVMiU66TCG",
    "outputId": "8a21d89d-9df1-48f3-d4a7-20b7a4bf7588"
   },
   "outputs": [
    {
     "name": "stdout",
     "output_type": "stream",
     "text": [
      "I LOVE PYTHON\n",
      "I LOVE PYTHON\n"
     ]
    }
   ],
   "source": [
    "# CALLING STATIC METHODS:\n",
    "ClassName.func2()\n",
    "\n",
    "# Also possible using the object :]\n",
    "obj.func2()"
   ]
  },
  {
   "cell_type": "code",
   "execution_count": 14,
   "metadata": {
    "colab": {
     "base_uri": "https://localhost:8080/"
    },
    "id": "k3adkWIl6dQG",
    "outputId": "4d84653b-e5ae-43f0-a334-98d171fcea39"
   },
   "outputs": [
    {
     "data": {
      "text/plain": [
       "1"
      ]
     },
     "execution_count": 14,
     "metadata": {},
     "output_type": "execute_result"
    }
   ],
   "source": [
    "# GETTING CLASS ATTRIBUTES\n",
    "ClassName.var1\n",
    "\n",
    "# Also possible using the object :]\n",
    "obj.var1"
   ]
  },
  {
   "cell_type": "code",
   "execution_count": 15,
   "metadata": {
    "colab": {
     "base_uri": "https://localhost:8080/"
    },
    "id": "fHAv-QiF68li",
    "outputId": "456d3752-7efb-4d7c-aa73-9f5a2eb91b49"
   },
   "outputs": [
    {
     "data": {
      "text/plain": [
       "2"
      ]
     },
     "execution_count": 15,
     "metadata": {},
     "output_type": "execute_result"
    }
   ],
   "source": [
    "# GETTING INSTANCE VARIABLE\n",
    "obj.var2"
   ]
  },
  {
   "cell_type": "code",
   "execution_count": 16,
   "metadata": {
    "colab": {
     "base_uri": "https://localhost:8080/",
     "height": 200
    },
    "id": "7CAiY1pJ7_u_",
    "outputId": "8b121e69-e00e-4428-829c-a1108a6a9a88"
   },
   "outputs": [],
   "source": [
    "# This is going to cause an error:\n",
    "# obj.var3"
   ]
  },
  {
   "cell_type": "markdown",
   "metadata": {
    "id": "nUwGNfa7-e01"
   },
   "source": [
    "Q: Can I access instance variables from a static method? Why?\n",
    "\n",
    "\n",
    "No! Static methods do not take 'self' as a parameter, so they have no way of accessing instance variables. They can still access class variables!\n"
   ]
  },
  {
   "cell_type": "code",
   "execution_count": 17,
   "metadata": {
    "colab": {
     "base_uri": "https://localhost:8080/",
     "height": 181
    },
    "id": "bULHK3yr-8Qy",
    "outputId": "8d9a1436-1c26-45af-a4fd-7b5943a5a761"
   },
   "outputs": [
    {
     "ename": "AttributeError",
     "evalue": "'ClassName' object has no attribute 'var4'",
     "output_type": "error",
     "traceback": [
      "\u001b[0;31m---------------------------------------------------------------------------\u001b[0m",
      "\u001b[0;31mAttributeError\u001b[0m                            Traceback (most recent call last)",
      "Cell \u001b[0;32mIn[17], line 1\u001b[0m\n\u001b[0;32m----> 1\u001b[0m obj\u001b[38;5;241m.\u001b[39mvar4\n",
      "\u001b[0;31mAttributeError\u001b[0m: 'ClassName' object has no attribute 'var4'"
     ]
    }
   ],
   "source": [
    "#obj.var4"
   ]
  },
  {
   "cell_type": "markdown",
   "metadata": {
    "id": "hUIG7ujM-uEe"
   },
   "source": [
    "Q: The line above causes an error? What is wrong? How do I fix this?\n",
    "\n",
    "This is because of the Lazy instantiation (look at the code). `var4` is not created in the class constructor, so it doesn't exist yet - to fix this call `func5`."
   ]
  },
  {
   "cell_type": "code",
   "execution_count": null,
   "metadata": {
    "id": "LCp1OFx98AF4"
   },
   "outputs": [],
   "source": [
    "# Example Class\n",
    "class Dog:\n",
    "\n",
    "    attr1 = \"mammal\"\n",
    "\n",
    "    def __init__(self, name):\n",
    "        self.name = name"
   ]
  },
  {
   "cell_type": "code",
   "execution_count": null,
   "metadata": {
    "id": "a1XkhiWV8dQ6"
   },
   "outputs": [],
   "source": [
    "# Q: Create two Dog-objects with name: 'Alice' and 'Bob'\n",
    "# WRITE HERE\n",
    "\n",
    "dog1 = Dog('Alice')\n",
    "dog2 = Dog('Bob')\n"
   ]
  },
  {
   "cell_type": "code",
   "execution_count": null,
   "metadata": {
    "id": "VyMZL6Z-8upQ"
   },
   "outputs": [],
   "source": [
    "# Q: Modify the code below;\n",
    "# - Create an instance variable. This instance variable should\n",
    "# take the value of another parameter passed in the constructor. The name of the instance variable should be 'sound'\n",
    "# - Create a method that prints the instance variable, these method should be called 'make_sound' and should take no parameters\n",
    "\n",
    "class Dog:\n",
    "  attr1 = \"mammal\"\n",
    "\n",
    "  def __init__(self, name, sound):\n",
    "      self.name = name\n",
    "      self.sound = sound\n",
    "\n",
    "  def make_sound(self):\n",
    "    print(self.sound)\n"
   ]
  },
  {
   "cell_type": "code",
   "execution_count": null,
   "metadata": {
    "colab": {
     "base_uri": "https://localhost:8080/"
    },
    "id": "87m3Qn6IA0fQ",
    "outputId": "3c284557-9529-4905-9a39-be29eda65e18"
   },
   "outputs": [],
   "source": [
    "# Test your object: Uncomment the following lines and run!\n",
    "dog = Dog('Alice', 'bark')\n",
    "another_dog = Dog('Bob', 'ghav ghav')\n",
    "dog_var = Dog('Bob2','haf haf')\n",
    "\n",
    "dog.make_sound()\n",
    "another_dog.make_sound()\n",
    "dog_var.make_sound()"
   ]
  },
  {
   "cell_type": "markdown",
   "metadata": {
    "id": "HOz83CGQBtS6"
   },
   "source": [
    "Q: Looking at the Numpy Library. Does the following return a class, a method, or an object? - Yes it is also possible to return methods in python\n",
    "\n",
    "\n",
    "`np.array([1,2,3])`\n",
    "\n",
    "Object - run this to see for yourself or look at Numpy's Documentation"
   ]
  },
  {
   "cell_type": "markdown",
   "metadata": {
    "id": "o5g9HJb9B3Ng"
   },
   "source": [
    "What is 'sum()'? A method, a class or an object? What does it return?\n",
    "\n",
    "`np.array([1,2,3]).sum()`\n",
    "\n",
    "This is a method. It returns the sum of the array, which is an integer, which is an object in Python."
   ]
  },
  {
   "cell_type": "markdown",
   "metadata": {
    "id": "e2Z3jTE-_K-Y"
   },
   "source": [
    "## Inheritance [extra]\n",
    "Inheritance is the capability of one class to derive or inherit the properties from another class. The class that derives properties is called the derived class or child class and the class from which the properties are being derived is called the base class or parent class."
   ]
  },
  {
   "cell_type": "code",
   "execution_count": null,
   "metadata": {
    "colab": {
     "base_uri": "https://localhost:8080/"
    },
    "id": "3-qXcgt0_LiR",
    "outputId": "bab28ec4-79c2-4665-98b9-c4a936eb2730"
   },
   "outputs": [],
   "source": [
    "class Person:\n",
    "    def __init__(self, name, idnumber):\n",
    "        self.name = name\n",
    "        self.idnumber = idnumber\n",
    "\n",
    "    def display(self):\n",
    "        print(self.name)\n",
    "        print(self.idnumber)\n",
    "\n",
    "    def details(self):\n",
    "        print(\"My name is {}\".format(self.name))\n",
    "        print(\"IdNumber: {}\".format(self.idnumber))\n",
    "\n",
    "# child class. An easy way to remember this relationship is Employee IS A TYPE OF\n",
    "# Person. Notice the brackets in the class definition.\n",
    "class Employee(Person):\n",
    "    def __init__(self, name, idnumber, salary, post):\n",
    "        # invoking the __init__ of the parent class. If the parent does not take\n",
    "        # any parameters we do not need the line below\n",
    "        Person.__init__(self, name, idnumber)\n",
    "\n",
    "        self.salary = salary\n",
    "        self.post = post\n",
    "\n",
    "\n",
    "\n",
    "    def details(self):\n",
    "        print(\"My name is {}\".format(self.name))\n",
    "        print(\"IdNumber: {}\".format(self.idnumber))\n",
    "        print(\"Post: {}\".format(self.post))\n",
    "\n",
    "\n",
    "# creation of an object variable or an instance\n",
    "a = Employee('Rahul', 886012, 200000, \"Intern\")\n",
    "\n",
    "# calling a function of the class Person using\n",
    "# its instance\n",
    "a.display()\n",
    "a.details()"
   ]
  },
  {
   "cell_type": "markdown",
   "metadata": {
    "id": "DLpIV1KoA_DS"
   },
   "source": [
    "Notice that when we called `details()` on the employee object the details method of the `Employee` Class was called and not the one in `Person`. This is called METHOD OVERRIDING.\n",
    "\n",
    "In essence, the Python Interpreter (i.e., what interprets our code), looks first at the class definition of the object, the method is called on (in this case `Employee`) if such a method is defined, if yes it uses that definition, if not it goes to its parent and so on until there is no parent left at which point it raises an error :[. Notice that the `display()` method is undefined in `Employee` but defined in its parent class. We say that this method is INHERITED."
   ]
  },
  {
   "cell_type": "code",
   "execution_count": null,
   "metadata": {
    "id": "PtsLah2S_WbK"
   },
   "outputs": [],
   "source": [
    "# Define a class called Bird:\n",
    "# - Define child classes called Sparrow, Ostrich\n",
    "# - The parent class should have a single instance method called flight that prints; \"Most of the birds can fly but some cannot.\"\n",
    "# - The child classes should Override this method according to whether the bird can fly or not.\n",
    "\n",
    "# Write code here\n",
    "\n",
    "\n",
    "class Bird:\n",
    "    def flight(self):\n",
    "        print(\"Most of the birds can fly but some cannot.\")\n",
    "\n",
    "class sparrow(Bird):\n",
    "\n",
    "    def flight(self):\n",
    "        print(\"Sparrows can fly.\")\n",
    "\n",
    "class ostrich(Bird):\n",
    "\n",
    "    def flight(self):\n",
    "        print(\"Ostriches cannot fly.\")"
   ]
  },
  {
   "cell_type": "code",
   "execution_count": null,
   "metadata": {
    "colab": {
     "base_uri": "https://localhost:8080/"
    },
    "id": "sOPrcmwkD1aZ",
    "outputId": "af4e7cc9-ae83-4c91-9200-9d8c660c9031"
   },
   "outputs": [],
   "source": [
    "# Test your code by uncommenting and running the lines below\n",
    "\n",
    "obj_bird = Bird()\n",
    "obj_spr = sparrow()\n",
    "obj_ost = ostrich()\n",
    "\n",
    "obj_bird.flight()\n",
    "obj_spr.flight()\n",
    "obj_ost.flight()"
   ]
  }
 ],
 "metadata": {
  "colab": {
   "provenance": []
  },
  "kernelspec": {
   "display_name": "Python 3 (ipykernel)",
   "language": "python",
   "name": "python3"
  },
  "language_info": {
   "codemirror_mode": {
    "name": "ipython",
    "version": 3
   },
   "file_extension": ".py",
   "mimetype": "text/x-python",
   "name": "python",
   "nbconvert_exporter": "python",
   "pygments_lexer": "ipython3",
   "version": "3.12.1"
  }
 },
 "nbformat": 4,
 "nbformat_minor": 4
}
